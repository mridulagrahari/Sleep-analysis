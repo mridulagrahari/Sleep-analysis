{
 "cells": [
  {
   "cell_type": "code",
   "execution_count": 2,
   "id": "412742c8-6370-4629-8172-b38079470a05",
   "metadata": {},
   "outputs": [
    {
     "name": "stdout",
     "output_type": "stream",
     "text": [
      "['dailyActivity_merged.csv', 'dailyCalories_merged.csv', 'dailyIntensities_merged.csv', 'dailySteps_merged.csv', 'heartrate_seconds_merged.csv', 'hourlyCalories_merged.csv', 'hourlyIntensities_merged.csv', 'hourlySteps_merged.csv', 'minuteCaloriesNarrow_merged.csv', 'minuteCaloriesWide_merged.csv', 'minuteIntensitiesNarrow_merged.csv', 'minuteIntensitiesWide_merged.csv', 'minuteMETsNarrow_merged.csv', 'minuteSleep_merged.csv', 'minuteStepsNarrow_merged.csv', 'minuteStepsWide_merged.csv', 'sleepdata.csv', 'sleepDay_merged.csv', 'weightLogInfo_merged.csv']\n"
     ]
    }
   ],
   "source": [
    "import os\n",
    "\n",
    "folder_path = r'C:\\Users\\mridu\\Downloads\\archive (1)\\mturkfitbit_export_4.12.16-5.12.16\\Fitabase Data 4.12.16-5.12.16'\n",
    "files = os.listdir(folder_path)\n",
    "print(files)"
   ]
  },
  {
   "cell_type": "code",
   "execution_count": 3,
   "id": "b3a9fe4a-3b8a-401e-b3c5-7e76107e0efd",
   "metadata": {},
   "outputs": [
    {
     "data": {
      "text/html": [
       "<div>\n",
       "<style scoped>\n",
       "    .dataframe tbody tr th:only-of-type {\n",
       "        vertical-align: middle;\n",
       "    }\n",
       "\n",
       "    .dataframe tbody tr th {\n",
       "        vertical-align: top;\n",
       "    }\n",
       "\n",
       "    .dataframe thead th {\n",
       "        text-align: right;\n",
       "    }\n",
       "</style>\n",
       "<table border=\"1\" class=\"dataframe\">\n",
       "  <thead>\n",
       "    <tr style=\"text-align: right;\">\n",
       "      <th></th>\n",
       "      <th>Id</th>\n",
       "      <th>SleepDay</th>\n",
       "      <th>TotalSleepRecords</th>\n",
       "      <th>TotalMinutesAsleep</th>\n",
       "      <th>TotalTimeInBed</th>\n",
       "    </tr>\n",
       "  </thead>\n",
       "  <tbody>\n",
       "    <tr>\n",
       "      <th>0</th>\n",
       "      <td>1503960366</td>\n",
       "      <td>4/12/2016 0:00</td>\n",
       "      <td>1</td>\n",
       "      <td>327</td>\n",
       "      <td>346</td>\n",
       "    </tr>\n",
       "    <tr>\n",
       "      <th>1</th>\n",
       "      <td>1503960366</td>\n",
       "      <td>4/13/2016 0:00</td>\n",
       "      <td>2</td>\n",
       "      <td>384</td>\n",
       "      <td>407</td>\n",
       "    </tr>\n",
       "    <tr>\n",
       "      <th>2</th>\n",
       "      <td>1503960366</td>\n",
       "      <td>4/15/2016 0:00</td>\n",
       "      <td>1</td>\n",
       "      <td>412</td>\n",
       "      <td>442</td>\n",
       "    </tr>\n",
       "    <tr>\n",
       "      <th>3</th>\n",
       "      <td>1503960366</td>\n",
       "      <td>4/16/2016 0:00</td>\n",
       "      <td>2</td>\n",
       "      <td>340</td>\n",
       "      <td>367</td>\n",
       "    </tr>\n",
       "    <tr>\n",
       "      <th>4</th>\n",
       "      <td>1503960366</td>\n",
       "      <td>4/17/2016 0:00</td>\n",
       "      <td>1</td>\n",
       "      <td>700</td>\n",
       "      <td>712</td>\n",
       "    </tr>\n",
       "  </tbody>\n",
       "</table>\n",
       "</div>"
      ],
      "text/plain": [
       "           Id        SleepDay  TotalSleepRecords  TotalMinutesAsleep  \\\n",
       "0  1503960366  4/12/2016 0:00                  1                 327   \n",
       "1  1503960366  4/13/2016 0:00                  2                 384   \n",
       "2  1503960366  4/15/2016 0:00                  1                 412   \n",
       "3  1503960366  4/16/2016 0:00                  2                 340   \n",
       "4  1503960366  4/17/2016 0:00                  1                 700   \n",
       "\n",
       "   TotalTimeInBed  \n",
       "0             346  \n",
       "1             407  \n",
       "2             442  \n",
       "3             367  \n",
       "4             712  "
      ]
     },
     "execution_count": 3,
     "metadata": {},
     "output_type": "execute_result"
    }
   ],
   "source": [
    "import pandas as pd\n",
    "\n",
    "file_path = r'C:\\Users\\mridu\\Downloads\\archive (1)\\mturkfitbit_export_4.12.16-5.12.16\\Fitabase Data 4.12.16-5.12.16\\sleepdata.csv'\n",
    "\n",
    "df = pd.read_csv(file_path)\n",
    "df.head()  # Show the first 5 rows\n"
   ]
  },
  {
   "cell_type": "code",
   "execution_count": 4,
   "id": "1fcb651d-4e3d-4b0a-a9c9-19ffc779ac13",
   "metadata": {},
   "outputs": [
    {
     "name": "stdout",
     "output_type": "stream",
     "text": [
      "Loaded datasets:\n",
      "- dailyActivity_merged (940 rows, 15 columns)\n",
      "- dailyCalories_merged (940 rows, 3 columns)\n",
      "- dailyIntensities_merged (940 rows, 10 columns)\n",
      "- dailySteps_merged (940 rows, 3 columns)\n",
      "- heartrate_seconds_merged (2483658 rows, 3 columns)\n",
      "- hourlyCalories_merged (22099 rows, 3 columns)\n",
      "- hourlyIntensities_merged (22099 rows, 4 columns)\n",
      "- hourlySteps_merged (22099 rows, 3 columns)\n",
      "- minuteCaloriesNarrow_merged (1325580 rows, 3 columns)\n",
      "- minuteCaloriesWide_merged (21645 rows, 62 columns)\n",
      "- minuteIntensitiesNarrow_merged (1325580 rows, 3 columns)\n",
      "- minuteIntensitiesWide_merged (21645 rows, 62 columns)\n",
      "- minuteMETsNarrow_merged (1325580 rows, 3 columns)\n",
      "- minuteSleep_merged (188521 rows, 4 columns)\n",
      "- minuteStepsNarrow_merged (1325580 rows, 3 columns)\n",
      "- minuteStepsWide_merged (21645 rows, 62 columns)\n",
      "- sleepdata (413 rows, 5 columns)\n",
      "- sleepDay_merged (413 rows, 5 columns)\n",
      "- weightLogInfo_merged (67 rows, 8 columns)\n"
     ]
    }
   ],
   "source": [
    "import pandas as pd\n",
    "import os\n",
    "\n",
    "# Folder containing all CSV files\n",
    "folder_path = r'C:\\Users\\mridu\\Downloads\\archive (1)\\mturkfitbit_export_4.12.16-5.12.16\\Fitabase Data 4.12.16-5.12.16'\n",
    "\n",
    "# List all CSV files\n",
    "files = [f for f in os.listdir(folder_path) if f.endswith('.csv')]\n",
    "\n",
    "# Load each CSV into a dictionary of DataFrames\n",
    "dataframes = {}\n",
    "\n",
    "for file in files:\n",
    "    file_path = os.path.join(folder_path, file)\n",
    "    df_name = file.replace('.csv', '')  # Use filename (without .csv) as key\n",
    "    dataframes[df_name] = pd.read_csv(file_path)\n",
    "\n",
    "# Confirm by printing keys (dataset names)\n",
    "print(\"Loaded datasets:\")\n",
    "for name in dataframes:\n",
    "    print(f\"- {name} ({dataframes[name].shape[0]} rows, {dataframes[name].shape[1]} columns)\")\n"
   ]
  },
  {
   "cell_type": "code",
   "execution_count": 5,
   "id": "1add8ee9-7737-4cf2-bf13-adf7d7dccb27",
   "metadata": {},
   "outputs": [
    {
     "data": {
      "text/html": [
       "<div>\n",
       "<style scoped>\n",
       "    .dataframe tbody tr th:only-of-type {\n",
       "        vertical-align: middle;\n",
       "    }\n",
       "\n",
       "    .dataframe tbody tr th {\n",
       "        vertical-align: top;\n",
       "    }\n",
       "\n",
       "    .dataframe thead th {\n",
       "        text-align: right;\n",
       "    }\n",
       "</style>\n",
       "<table border=\"1\" class=\"dataframe\">\n",
       "  <thead>\n",
       "    <tr style=\"text-align: right;\">\n",
       "      <th></th>\n",
       "      <th>Id</th>\n",
       "      <th>SleepDay</th>\n",
       "      <th>TotalSleepRecords</th>\n",
       "      <th>TotalMinutesAsleep</th>\n",
       "      <th>TotalTimeInBed</th>\n",
       "    </tr>\n",
       "  </thead>\n",
       "  <tbody>\n",
       "    <tr>\n",
       "      <th>0</th>\n",
       "      <td>1503960366</td>\n",
       "      <td>4/12/2016 0:00</td>\n",
       "      <td>1</td>\n",
       "      <td>327</td>\n",
       "      <td>346</td>\n",
       "    </tr>\n",
       "    <tr>\n",
       "      <th>1</th>\n",
       "      <td>1503960366</td>\n",
       "      <td>4/13/2016 0:00</td>\n",
       "      <td>2</td>\n",
       "      <td>384</td>\n",
       "      <td>407</td>\n",
       "    </tr>\n",
       "    <tr>\n",
       "      <th>2</th>\n",
       "      <td>1503960366</td>\n",
       "      <td>4/15/2016 0:00</td>\n",
       "      <td>1</td>\n",
       "      <td>412</td>\n",
       "      <td>442</td>\n",
       "    </tr>\n",
       "    <tr>\n",
       "      <th>3</th>\n",
       "      <td>1503960366</td>\n",
       "      <td>4/16/2016 0:00</td>\n",
       "      <td>2</td>\n",
       "      <td>340</td>\n",
       "      <td>367</td>\n",
       "    </tr>\n",
       "    <tr>\n",
       "      <th>4</th>\n",
       "      <td>1503960366</td>\n",
       "      <td>4/17/2016 0:00</td>\n",
       "      <td>1</td>\n",
       "      <td>700</td>\n",
       "      <td>712</td>\n",
       "    </tr>\n",
       "  </tbody>\n",
       "</table>\n",
       "</div>"
      ],
      "text/plain": [
       "           Id        SleepDay  TotalSleepRecords  TotalMinutesAsleep  \\\n",
       "0  1503960366  4/12/2016 0:00                  1                 327   \n",
       "1  1503960366  4/13/2016 0:00                  2                 384   \n",
       "2  1503960366  4/15/2016 0:00                  1                 412   \n",
       "3  1503960366  4/16/2016 0:00                  2                 340   \n",
       "4  1503960366  4/17/2016 0:00                  1                 700   \n",
       "\n",
       "   TotalTimeInBed  \n",
       "0             346  \n",
       "1             407  \n",
       "2             442  \n",
       "3             367  \n",
       "4             712  "
      ]
     },
     "execution_count": 5,
     "metadata": {},
     "output_type": "execute_result"
    }
   ],
   "source": [
    "import pandas as pd\n",
    "\n",
    "# Path to your sleepdata.csv file\n",
    "file_path = r'C:\\Users\\mridu\\Downloads\\archive (1)\\mturkfitbit_export_4.12.16-5.12.16\\Fitabase Data 4.12.16-5.12.16\\sleepdata.csv'\n",
    "\n",
    "# Load into DataFrame\n",
    "sleep_df = pd.read_csv(file_path)\n",
    "\n",
    "# Show the first 5 rows\n",
    "sleep_df.head()\n"
   ]
  },
  {
   "cell_type": "code",
   "execution_count": 9,
   "id": "5470874e-3d6f-4f90-9305-e074a08ee062",
   "metadata": {},
   "outputs": [
    {
     "name": "stdout",
     "output_type": "stream",
     "text": [
      "<class 'pandas.core.frame.DataFrame'>\n",
      "RangeIndex: 413 entries, 0 to 412\n",
      "Data columns (total 5 columns):\n",
      " #   Column              Non-Null Count  Dtype \n",
      "---  ------              --------------  ----- \n",
      " 0   Id                  413 non-null    int64 \n",
      " 1   SleepDay            413 non-null    object\n",
      " 2   TotalSleepRecords   413 non-null    int64 \n",
      " 3   TotalMinutesAsleep  413 non-null    int64 \n",
      " 4   TotalTimeInBed      413 non-null    int64 \n",
      "dtypes: int64(4), object(1)\n",
      "memory usage: 16.3+ KB\n"
     ]
    },
    {
     "data": {
      "text/html": [
       "<div>\n",
       "<style scoped>\n",
       "    .dataframe tbody tr th:only-of-type {\n",
       "        vertical-align: middle;\n",
       "    }\n",
       "\n",
       "    .dataframe tbody tr th {\n",
       "        vertical-align: top;\n",
       "    }\n",
       "\n",
       "    .dataframe thead th {\n",
       "        text-align: right;\n",
       "    }\n",
       "</style>\n",
       "<table border=\"1\" class=\"dataframe\">\n",
       "  <thead>\n",
       "    <tr style=\"text-align: right;\">\n",
       "      <th></th>\n",
       "      <th>Id</th>\n",
       "      <th>TotalSleepRecords</th>\n",
       "      <th>TotalMinutesAsleep</th>\n",
       "      <th>TotalTimeInBed</th>\n",
       "    </tr>\n",
       "  </thead>\n",
       "  <tbody>\n",
       "    <tr>\n",
       "      <th>count</th>\n",
       "      <td>4.130000e+02</td>\n",
       "      <td>413.000000</td>\n",
       "      <td>413.000000</td>\n",
       "      <td>413.000000</td>\n",
       "    </tr>\n",
       "    <tr>\n",
       "      <th>mean</th>\n",
       "      <td>5.000979e+09</td>\n",
       "      <td>1.118644</td>\n",
       "      <td>419.467312</td>\n",
       "      <td>458.639225</td>\n",
       "    </tr>\n",
       "    <tr>\n",
       "      <th>std</th>\n",
       "      <td>2.060360e+09</td>\n",
       "      <td>0.345521</td>\n",
       "      <td>118.344679</td>\n",
       "      <td>127.101607</td>\n",
       "    </tr>\n",
       "    <tr>\n",
       "      <th>min</th>\n",
       "      <td>1.503960e+09</td>\n",
       "      <td>1.000000</td>\n",
       "      <td>58.000000</td>\n",
       "      <td>61.000000</td>\n",
       "    </tr>\n",
       "    <tr>\n",
       "      <th>25%</th>\n",
       "      <td>3.977334e+09</td>\n",
       "      <td>1.000000</td>\n",
       "      <td>361.000000</td>\n",
       "      <td>403.000000</td>\n",
       "    </tr>\n",
       "    <tr>\n",
       "      <th>50%</th>\n",
       "      <td>4.702922e+09</td>\n",
       "      <td>1.000000</td>\n",
       "      <td>433.000000</td>\n",
       "      <td>463.000000</td>\n",
       "    </tr>\n",
       "    <tr>\n",
       "      <th>75%</th>\n",
       "      <td>6.962181e+09</td>\n",
       "      <td>1.000000</td>\n",
       "      <td>490.000000</td>\n",
       "      <td>526.000000</td>\n",
       "    </tr>\n",
       "    <tr>\n",
       "      <th>max</th>\n",
       "      <td>8.792010e+09</td>\n",
       "      <td>3.000000</td>\n",
       "      <td>796.000000</td>\n",
       "      <td>961.000000</td>\n",
       "    </tr>\n",
       "  </tbody>\n",
       "</table>\n",
       "</div>"
      ],
      "text/plain": [
       "                 Id  TotalSleepRecords  TotalMinutesAsleep  TotalTimeInBed\n",
       "count  4.130000e+02         413.000000          413.000000      413.000000\n",
       "mean   5.000979e+09           1.118644          419.467312      458.639225\n",
       "std    2.060360e+09           0.345521          118.344679      127.101607\n",
       "min    1.503960e+09           1.000000           58.000000       61.000000\n",
       "25%    3.977334e+09           1.000000          361.000000      403.000000\n",
       "50%    4.702922e+09           1.000000          433.000000      463.000000\n",
       "75%    6.962181e+09           1.000000          490.000000      526.000000\n",
       "max    8.792010e+09           3.000000          796.000000      961.000000"
      ]
     },
     "execution_count": 9,
     "metadata": {},
     "output_type": "execute_result"
    }
   ],
   "source": [
    "sleep_df.shape        # How many rows & columns\n",
    "sleep_df.columns      # Column names\n",
    "sleep_df.info()       # Data types and non-null counts\n",
    " sleep_df.describe()   # Summary statistics\n"
   ]
  },
  {
   "cell_type": "code",
   "execution_count": 10,
   "id": "e1764116-4413-4f4b-8b6d-18726f5fc510",
   "metadata": {},
   "outputs": [
    {
     "data": {
      "text/plain": [
       "(413, 5)"
      ]
     },
     "execution_count": 10,
     "metadata": {},
     "output_type": "execute_result"
    }
   ],
   "source": [
    "sleep_df.shape "
   ]
  },
  {
   "cell_type": "code",
   "execution_count": 6,
   "id": "5d733250-f85e-469d-a6bf-fc388eae2eca",
   "metadata": {},
   "outputs": [
    {
     "name": "stdout",
     "output_type": "stream",
     "text": [
      "             Id        SleepDay  TotalSleepRecords  TotalMinutesAsleep  \\\n",
      "0    1503960366  4/12/2016 0:00                  1                 327   \n",
      "1    1503960366  4/13/2016 0:00                  2                 384   \n",
      "2    1503960366  4/15/2016 0:00                  1                 412   \n",
      "3    1503960366  4/16/2016 0:00                  2                 340   \n",
      "4    1503960366  4/17/2016 0:00                  1                 700   \n",
      "..          ...             ...                ...                 ...   \n",
      "408  8792009665  4/30/2016 0:00                  1                 343   \n",
      "409  8792009665   5/1/2016 0:00                  1                 503   \n",
      "410  8792009665   5/2/2016 0:00                  1                 415   \n",
      "411  8792009665   5/3/2016 0:00                  1                 516   \n",
      "412  8792009665   5/4/2016 0:00                  1                 439   \n",
      "\n",
      "     TotalTimeInBed  \n",
      "0               346  \n",
      "1               407  \n",
      "2               442  \n",
      "3               367  \n",
      "4               712  \n",
      "..              ...  \n",
      "408             360  \n",
      "409             527  \n",
      "410             423  \n",
      "411             545  \n",
      "412             463  \n",
      "\n",
      "[413 rows x 5 columns]\n"
     ]
    }
   ],
   "source": [
    "import pandas as pd\n",
    "\n",
    "\n",
    "df = pd.DataFrame(sleep_df)\n",
    "\n",
    "# Remove rows with any NaN values\n",
    "clean_df = df.dropna()\n",
    "\n",
    "print(clean_df)"
   ]
  },
  {
   "cell_type": "code",
   "execution_count": 7,
   "id": "838bf25c-8e65-4bed-a842-d820c28d81d7",
   "metadata": {},
   "outputs": [
    {
     "name": "stdout",
     "output_type": "stream",
     "text": [
      "Loaded datasets:\n",
      "- dailyActivity_merged (940 rows, 15 columns)\n",
      "- dailyCalories_merged (940 rows, 3 columns)\n",
      "- dailyIntensities_merged (940 rows, 10 columns)\n",
      "- dailySteps_merged (940 rows, 3 columns)\n",
      "- heartrate_seconds_merged (2483658 rows, 3 columns)\n",
      "- hourlyCalories_merged (22099 rows, 3 columns)\n",
      "- hourlyIntensities_merged (22099 rows, 4 columns)\n",
      "- hourlySteps_merged (22099 rows, 3 columns)\n",
      "- minuteCaloriesNarrow_merged (1325580 rows, 3 columns)\n",
      "- minuteCaloriesWide_merged (21645 rows, 62 columns)\n",
      "- minuteIntensitiesNarrow_merged (1325580 rows, 3 columns)\n",
      "- minuteIntensitiesWide_merged (21645 rows, 62 columns)\n",
      "- minuteMETsNarrow_merged (1325580 rows, 3 columns)\n",
      "- minuteSleep_merged (188521 rows, 4 columns)\n",
      "- minuteStepsNarrow_merged (1325580 rows, 3 columns)\n",
      "- minuteStepsWide_merged (21645 rows, 62 columns)\n",
      "- sleepdata (413 rows, 5 columns)\n",
      "- sleepDay_merged (413 rows, 5 columns)\n",
      "- weightLogInfo_merged (67 rows, 8 columns)\n"
     ]
    }
   ],
   "source": [
    "import pandas as pd\n",
    "import os\n",
    "\n",
    "# Folder containing all CSV files\n",
    "folder_path = r'C:\\Users\\mridu\\Downloads\\archive (1)\\mturkfitbit_export_4.12.16-5.12.16\\Fitabase Data 4.12.16-5.12.16'\n",
    "\n",
    "# List all CSV files\n",
    "files = [f for f in os.listdir(folder_path) if f.endswith('.csv')]\n",
    "\n",
    "# Load each CSV into a dictionary of DataFrames\n",
    "dataframes = {}\n",
    "\n",
    "for file in files:\n",
    "    file_path = os.path.join(folder_path, file)\n",
    "    df_name = file.replace('.csv', '')  # Use filename (without .csv) as key\n",
    "    dataframes[df_name] = pd.read_csv(file_path)\n",
    "\n",
    "# Confirm by printing keys (dataset names)\n",
    "print(\"Loaded datasets:\")\n",
    "for name in dataframes:\n",
    "    print(f\"- {name} ({dataframes[name].shape[0]} rows, {dataframes[name].shape[1]} columns)\")\n"
   ]
  },
  {
   "cell_type": "code",
   "execution_count": 6,
   "id": "a33e5e6a-249c-4278-8def-3426627fe11b",
   "metadata": {},
   "outputs": [
    {
     "data": {
      "text/html": [
       "<div>\n",
       "<style scoped>\n",
       "    .dataframe tbody tr th:only-of-type {\n",
       "        vertical-align: middle;\n",
       "    }\n",
       "\n",
       "    .dataframe tbody tr th {\n",
       "        vertical-align: top;\n",
       "    }\n",
       "\n",
       "    .dataframe thead th {\n",
       "        text-align: right;\n",
       "    }\n",
       "</style>\n",
       "<table border=\"1\" class=\"dataframe\">\n",
       "  <thead>\n",
       "    <tr style=\"text-align: right;\">\n",
       "      <th></th>\n",
       "      <th>Id</th>\n",
       "      <th>SleepDay</th>\n",
       "      <th>TotalSleepRecords</th>\n",
       "      <th>TotalMinutesAsleep</th>\n",
       "      <th>TotalTimeInBed</th>\n",
       "    </tr>\n",
       "  </thead>\n",
       "  <tbody>\n",
       "    <tr>\n",
       "      <th>0</th>\n",
       "      <td>1503960366</td>\n",
       "      <td>4/12/2016 0:00</td>\n",
       "      <td>1</td>\n",
       "      <td>327</td>\n",
       "      <td>346</td>\n",
       "    </tr>\n",
       "    <tr>\n",
       "      <th>1</th>\n",
       "      <td>1503960366</td>\n",
       "      <td>4/13/2016 0:00</td>\n",
       "      <td>2</td>\n",
       "      <td>384</td>\n",
       "      <td>407</td>\n",
       "    </tr>\n",
       "    <tr>\n",
       "      <th>2</th>\n",
       "      <td>1503960366</td>\n",
       "      <td>4/15/2016 0:00</td>\n",
       "      <td>1</td>\n",
       "      <td>412</td>\n",
       "      <td>442</td>\n",
       "    </tr>\n",
       "    <tr>\n",
       "      <th>3</th>\n",
       "      <td>1503960366</td>\n",
       "      <td>4/16/2016 0:00</td>\n",
       "      <td>2</td>\n",
       "      <td>340</td>\n",
       "      <td>367</td>\n",
       "    </tr>\n",
       "    <tr>\n",
       "      <th>4</th>\n",
       "      <td>1503960366</td>\n",
       "      <td>4/17/2016 0:00</td>\n",
       "      <td>1</td>\n",
       "      <td>700</td>\n",
       "      <td>712</td>\n",
       "    </tr>\n",
       "  </tbody>\n",
       "</table>\n",
       "</div>"
      ],
      "text/plain": [
       "           Id        SleepDay  TotalSleepRecords  TotalMinutesAsleep  \\\n",
       "0  1503960366  4/12/2016 0:00                  1                 327   \n",
       "1  1503960366  4/13/2016 0:00                  2                 384   \n",
       "2  1503960366  4/15/2016 0:00                  1                 412   \n",
       "3  1503960366  4/16/2016 0:00                  2                 340   \n",
       "4  1503960366  4/17/2016 0:00                  1                 700   \n",
       "\n",
       "   TotalTimeInBed  \n",
       "0             346  \n",
       "1             407  \n",
       "2             442  \n",
       "3             367  \n",
       "4             712  "
      ]
     },
     "execution_count": 6,
     "metadata": {},
     "output_type": "execute_result"
    }
   ],
   "source": [
    "import pandas as pd\n",
    "\n",
    "# Path to your sleepdata.csv file\n",
    "file_path = r'C:\\Users\\mridu\\Downloads\\archive (1)\\mturkfitbit_export_4.12.16-5.12.16\\Fitabase Data 4.12.16-5.12.16\\sleepdata.csv'\n",
    "\n",
    "# Load into DataFrame\n",
    "sleep_df = pd.read_csv(file_path)\n",
    "\n",
    "# Show the first 5 rows\n",
    "sleep_df.head()"
   ]
  },
  {
   "cell_type": "code",
   "execution_count": 8,
   "id": "08f7fae0-c2d0-46b6-930b-24e08846abd3",
   "metadata": {},
   "outputs": [
    {
     "name": "stdout",
     "output_type": "stream",
     "text": [
      "             Id        SleepDay  TotalSleepRecords  TotalMinutesAsleep  \\\n",
      "0    1503960366  4/12/2016 0:00                  1                 327   \n",
      "1    1503960366  4/13/2016 0:00                  2                 384   \n",
      "2    1503960366  4/15/2016 0:00                  1                 412   \n",
      "3    1503960366  4/16/2016 0:00                  2                 340   \n",
      "4    1503960366  4/17/2016 0:00                  1                 700   \n",
      "..          ...             ...                ...                 ...   \n",
      "408  8792009665  4/30/2016 0:00                  1                 343   \n",
      "409  8792009665   5/1/2016 0:00                  1                 503   \n",
      "410  8792009665   5/2/2016 0:00                  1                 415   \n",
      "411  8792009665   5/3/2016 0:00                  1                 516   \n",
      "412  8792009665   5/4/2016 0:00                  1                 439   \n",
      "\n",
      "     TotalTimeInBed  \n",
      "0               346  \n",
      "1               407  \n",
      "2               442  \n",
      "3               367  \n",
      "4               712  \n",
      "..              ...  \n",
      "408             360  \n",
      "409             527  \n",
      "410             423  \n",
      "411             545  \n",
      "412             463  \n",
      "\n",
      "[413 rows x 5 columns]\n"
     ]
    }
   ],
   "source": [
    "import pandas as pd\n",
    "\n",
    "\n",
    "df = pd.DataFrame(sleep_df)\n",
    "\n",
    "# Remove rows with any NaN values\n",
    "clean_df = df.dropna()\n",
    "\n",
    "print(clean_df)"
   ]
  },
  {
   "cell_type": "code",
   "execution_count": 8,
   "id": "48b8bec8-b3b1-4883-ba14-de534921bfce",
   "metadata": {},
   "outputs": [
    {
     "name": "stdout",
     "output_type": "stream",
     "text": [
      "             Id        SleepDay  TotalSleepRecords  TotalMinutesAsleep  \\\n",
      "0    1503960366  4/12/2016 0:00                  1                 327   \n",
      "1    1503960366  4/13/2016 0:00                  2                 384   \n",
      "2    1503960366  4/15/2016 0:00                  1                 412   \n",
      "3    1503960366  4/16/2016 0:00                  2                 340   \n",
      "4    1503960366  4/17/2016 0:00                  1                 700   \n",
      "..          ...             ...                ...                 ...   \n",
      "408  8792009665  4/30/2016 0:00                  1                 343   \n",
      "409  8792009665   5/1/2016 0:00                  1                 503   \n",
      "410  8792009665   5/2/2016 0:00                  1                 415   \n",
      "411  8792009665   5/3/2016 0:00                  1                 516   \n",
      "412  8792009665   5/4/2016 0:00                  1                 439   \n",
      "\n",
      "     TotalTimeInBed  \n",
      "0               346  \n",
      "1               407  \n",
      "2               442  \n",
      "3               367  \n",
      "4               712  \n",
      "..              ...  \n",
      "408             360  \n",
      "409             527  \n",
      "410             423  \n",
      "411             545  \n",
      "412             463  \n",
      "\n",
      "[413 rows x 5 columns]\n"
     ]
    },
    {
     "name": "stderr",
     "output_type": "stream",
     "text": [
      "C:\\Users\\mridu\\AppData\\Local\\Temp\\ipykernel_1228\\340691080.py:6: FutureWarning: DataFrame.fillna with 'method' is deprecated and will raise in a future version. Use obj.ffill() or obj.bfill() instead.\n",
      "  df.fillna(method='ffill', inplace=True)\n"
     ]
    }
   ],
   "source": [
    "import pandas as pd\n",
    "\n",
    "df = pd.DataFrame(sleep_df)\n",
    "\n",
    "# Forward fill missing values\n",
    "df.fillna(method='ffill', inplace=True)\n",
    "\n",
    "print(df)"
   ]
  },
  {
   "cell_type": "code",
   "execution_count": 9,
   "id": "d4ac4028-ce73-4c5c-b790-55eeaa9b07a6",
   "metadata": {},
   "outputs": [
    {
     "name": "stdout",
     "output_type": "stream",
     "text": [
      "3\n"
     ]
    }
   ],
   "source": [
    "import pandas as pd\n",
    "\n",
    "df = pd.DataFrame(sleep_df)\n",
    "\n",
    "print(df.duplicated().sum())\n",
    "\n",
    "\n",
    "\n"
   ]
  },
  {
   "cell_type": "code",
   "execution_count": 10,
   "id": "a675e30f-f0ec-4d47-a409-c5ef286da108",
   "metadata": {},
   "outputs": [
    {
     "ename": "AttributeError",
     "evalue": "'function' object has no attribute 'duplicated'",
     "output_type": "error",
     "traceback": [
      "\u001b[31m---------------------------------------------------------------------------\u001b[39m",
      "\u001b[31mAttributeError\u001b[39m                            Traceback (most recent call last)",
      "\u001b[36mCell\u001b[39m\u001b[36m \u001b[39m\u001b[32mIn[10]\u001b[39m\u001b[32m, line 6\u001b[39m\n\u001b[32m      3\u001b[39m \u001b[38;5;66;03m# Assuming sleep_df is already defined somewhere\u001b[39;00m\n\u001b[32m      4\u001b[39m df = pd.DataFrame(sleep_df)\n\u001b[32m----> \u001b[39m\u001b[32m6\u001b[39m \u001b[43mdf\u001b[49m\u001b[43m.\u001b[49m\u001b[43mdrop\u001b[49m\u001b[43m.\u001b[49m\u001b[43mduplicated\u001b[49m(inplace = \u001b[38;5;28;01mTrue\u001b[39;00m)\n\u001b[32m      8\u001b[39m \u001b[38;5;66;03m# Display the DataFrame\u001b[39;00m\n\u001b[32m      9\u001b[39m \u001b[38;5;28mprint\u001b[39m(df)\n",
      "\u001b[31mAttributeError\u001b[39m: 'function' object has no attribute 'duplicated'"
     ]
    }
   ],
   "source": [
    "import pandas as pd\n",
    "\n",
    "# Assuming sleep_df is already defined somewhere\n",
    "df = pd.DataFrame(sleep_df)\n",
    "\n",
    "df.drop.duplicated(inplace = True)\n",
    "\n",
    "# Display the DataFrame\n",
    "print(df)\n",
    "\n",
    "\n"
   ]
  },
  {
   "cell_type": "code",
   "execution_count": 11,
   "id": "e2847725-3a53-4a47-9208-1563b4e05c84",
   "metadata": {},
   "outputs": [
    {
     "name": "stdout",
     "output_type": "stream",
     "text": [
      "             Id        SleepDay  TotalSleepRecords  TotalMinutesAsleep  \\\n",
      "0    1503960366  4/12/2016 0:00                  1                 327   \n",
      "1    1503960366  4/13/2016 0:00                  2                 384   \n",
      "2    1503960366  4/15/2016 0:00                  1                 412   \n",
      "3    1503960366  4/16/2016 0:00                  2                 340   \n",
      "4    1503960366  4/17/2016 0:00                  1                 700   \n",
      "..          ...             ...                ...                 ...   \n",
      "408  8792009665  4/30/2016 0:00                  1                 343   \n",
      "409  8792009665   5/1/2016 0:00                  1                 503   \n",
      "410  8792009665   5/2/2016 0:00                  1                 415   \n",
      "411  8792009665   5/3/2016 0:00                  1                 516   \n",
      "412  8792009665   5/4/2016 0:00                  1                 439   \n",
      "\n",
      "     TotalTimeInBed  \n",
      "0               346  \n",
      "1               407  \n",
      "2               442  \n",
      "3               367  \n",
      "4               712  \n",
      "..              ...  \n",
      "408             360  \n",
      "409             527  \n",
      "410             423  \n",
      "411             545  \n",
      "412             463  \n",
      "\n",
      "[410 rows x 5 columns]\n"
     ]
    }
   ],
   "source": [
    "import pandas as pd\n",
    "\n",
    "# Assuming sleep_df is already defined somewhere\n",
    "df = pd.DataFrame(sleep_df)\n",
    "\n",
    "# Correct syntax to drop duplicate rows\n",
    "df.drop_duplicates(inplace=True)\n",
    "\n",
    "# Display the DataFrame\n",
    "print(df)\n"
   ]
  },
  {
   "cell_type": "code",
   "execution_count": 19,
   "id": "c008fc5e-285c-4f6a-9f58-35585dff9b7f",
   "metadata": {},
   "outputs": [
    {
     "name": "stdout",
     "output_type": "stream",
     "text": [
      "419.17317073170733\n",
      "458.4829268292683\n"
     ]
    }
   ],
   "source": [
    "#mean\n",
    "\n",
    "a = df['TotalMinutesAsleep'].mean()\n",
    "print(a)\n",
    "\n",
    "b = df['TotalTimeInBed'].mean()\n",
    "print(b)"
   ]
  },
  {
   "cell_type": "code",
   "execution_count": 13,
   "id": "67207094-904b-4cbe-b70b-16630f990096",
   "metadata": {},
   "outputs": [
    {
     "name": "stdout",
     "output_type": "stream",
     "text": [
      "432.5\n",
      "463.0\n"
     ]
    }
   ],
   "source": [
    "#median\n",
    "\n",
    "c = df['TotalMinutesAsleep'].median()\n",
    "print(c)\n",
    "\n",
    "d = df['TotalTimeInBed'].median()\n",
    "print(d)"
   ]
  },
  {
   "cell_type": "code",
   "execution_count": 14,
   "id": "1940708a-7679-45b3-bdd1-a15990706c4a",
   "metadata": {},
   "outputs": [
    {
     "name": "stdout",
     "output_type": "stream",
     "text": [
      "432.5\n",
      "463.0\n"
     ]
    }
   ],
   "source": [
    "#mode\n",
    "\n",
    "e = df['TotalMinutesAsleep'].mode()\n",
    "print(c)\n",
    "\n",
    "f = df['TotalTimeInBed'].mode()\n",
    "print(d)"
   ]
  },
  {
   "cell_type": "code",
   "execution_count": 15,
   "id": "2ad4864f-0552-4315-9d3f-a1e24a6b13bd",
   "metadata": {},
   "outputs": [
    {
     "name": "stdout",
     "output_type": "stream",
     "text": [
      "118.63591758410318\n",
      "127.45513981879802\n"
     ]
    }
   ],
   "source": [
    "#standard deviation\n",
    "\n",
    "g = df['TotalMinutesAsleep'].std()\n",
    "print(g)\n",
    "\n",
    "h = df['TotalTimeInBed'].std()\n",
    "print(h)"
   ]
  },
  {
   "cell_type": "code",
   "execution_count": 16,
   "id": "6251f30b-e19f-48cb-a87c-c75878766883",
   "metadata": {},
   "outputs": [
    {
     "name": "stdout",
     "output_type": "stream",
     "text": [
      "14074.480941022124\n",
      "16244.81266622935\n"
     ]
    }
   ],
   "source": [
    "#variance\n",
    "\n",
    "i = df['TotalMinutesAsleep'].var()\n",
    "print(i)\n",
    "\n",
    "j = df['TotalTimeInBed'].var()\n",
    "print(j)"
   ]
  },
  {
   "cell_type": "code",
   "execution_count": 17,
   "id": "0804c55f-2260-49cc-8924-9267a32c8f69",
   "metadata": {},
   "outputs": [
    {
     "name": "stdout",
     "output_type": "stream",
     "text": [
      "129.0\n"
     ]
    }
   ],
   "source": [
    "#interquartile range:\n",
    "\n",
    "Q1 = df['TotalMinutesAsleep'].quantile(0.25)\n",
    "Q3 = df['TotalMinutesAsleep'].quantile(0.75)\n",
    "IQR = Q3-Q1\n",
    "print(IQR)"
   ]
  },
  {
   "cell_type": "code",
   "execution_count": 18,
   "id": "73034f02-789d-45aa-b558-e258302855ed",
   "metadata": {},
   "outputs": [
    {
     "name": "stdout",
     "output_type": "stream",
     "text": [
      "122.25\n"
     ]
    }
   ],
   "source": [
    "#interquartile range:\n",
    "\n",
    "Q1 = df['TotalTimeInBed'].quantile(0.25)\n",
    "Q3 = df['TotalTimeInBed'].quantile(0.75)\n",
    "IQR = Q3-Q1\n",
    "print(IQR)"
   ]
  },
  {
   "cell_type": "code",
   "execution_count": 20,
   "id": "9ea80519-c73d-4108-a4bb-9122e4676317",
   "metadata": {},
   "outputs": [
    {
     "data": {
      "image/png": "[encoded data removed]",
      "text/plain": [
       "<Figure size 640x480 with 1 Axes>"
      ]
     },
     "metadata": {},
     "output_type": "display_data"
    }
   ],
   "source": [
    "import pandas as pd\n",
    "import matplotlib.pyplot as plt\n",
    "\n",
    "# Example: Distribution of sleep duration\n",
    "df['TotalMinutesAsleep'].plot(kind='hist', bins=20, edgecolor='black')\n",
    "plt.title('Histogram of Total Sleep Time')\n",
    "plt.xlabel('Sleep Duration')\n",
    "plt.ylabel('Frequency')\n",
    "plt.show()"
   ]
  },
  {
   "cell_type": "code",
   "execution_count": 21,
   "id": "805e3a04-ddfa-467f-928f-06228590e521",
   "metadata": {},
   "outputs": [
    {
     "data": {
      "image/png": "[encoded data removed]",
      "text/plain": [
       "<Figure size 640x480 with 1 Axes>"
      ]
     },
     "metadata": {},
     "output_type": "display_data"
    }
   ],
   "source": [
    "import seaborn as sns\n",
    "\n",
    "sns.boxplot(data=df, y='TotalMinutesAsleep')\n",
    "plt.title('Box Plot of Total Sleep Time')\n",
    "plt.show()"
   ]
  },
  {
   "cell_type": "code",
   "execution_count": 23,
   "id": "c9f3efed-d7b7-4a25-9f70-f45ac957eeb2",
   "metadata": {},
   "outputs": [
    {
     "data": {
      "image/png": "[encoded data removed]",
      "text/plain": [
       "<Figure size 640x480 with 1 Axes>"
      ]
     },
     "metadata": {},
     "output_type": "display_data"
    }
   ],
   "source": [
    "plt.scatter(df['TotalTimeInBed'], df['TotalMinutesAsleep'], alpha=0.6)\n",
    "plt.title('Scatter Plot of Time in Bed vs Sleep Time')\n",
    "plt.xlabel('Total Time in Bed')\n",
    "plt.ylabel('Total Sleep Time')\n",
    "plt.show()"
   ]
  },
  {
   "cell_type": "code",
   "execution_count": 24,
   "id": "62ce0634-e252-4f7c-9fbe-2e49fa9da6aa",
   "metadata": {},
   "outputs": [
    {
     "data": {
      "image/png": "[encoded data removed]",
      "text/plain": [
       "<Figure size 640x480 with 2 Axes>"
      ]
     },
     "metadata": {},
     "output_type": "display_data"
    }
   ],
   "source": [
    "import seaborn as sns\n",
    "\n",
    "corr = df.corr(numeric_only=True)  # Only for numerical columns\n",
    "sns.heatmap(corr, annot=True, cmap='coolwarm')\n",
    "plt.title('Correlation Heatmap')\n",
    "plt.show()"
   ]
  },
  {
   "cell_type": "code",
   "execution_count": 25,
   "id": "dcea2b67-9df8-40de-963b-c131ce06daa4",
   "metadata": {},
   "outputs": [
    {
     "name": "stdout",
     "output_type": "stream",
     "text": [
      "419.17317073170733\n",
      "458.4829268292683\n"
     ]
    }
   ],
   "source": [
    "#mean\n",
    "\n",
    "a = df['TotalMinutesAsleep'].mean()\n",
    "print(a)\n",
    "\n",
    "b = df['TotalTimeInBed'].mean()\n",
    "print(b)"
   ]
  },
  {
   "cell_type": "code",
   "execution_count": 30,
   "id": "5d1954b6-2193-46c7-b0ea-f554cb237d3c",
   "metadata": {},
   "outputs": [
    {
     "name": "stdout",
     "output_type": "stream",
     "text": [
      "5.85901035117501\n",
      "6.294560692206921\n"
     ]
    }
   ],
   "source": [
    "\n",
    "from scipy import stats\n",
    "err = stats.sem(df['TotalMinutesAsleep'])\n",
    "print(err)\n",
    "\n",
    "\n",
    "err2 = stats.sem(df['TotalTimeInBed'])\n",
    "print(err2)\n",
    "\n"
   ]
  },
  {
   "cell_type": "code",
   "execution_count": 31,
   "id": "718e06d4-ff2f-457f-b19b-cf1fadee72d4",
   "metadata": {},
   "outputs": [
    {
     "data": {
      "text/plain": [
       "410"
      ]
     },
     "execution_count": 31,
     "metadata": {},
     "output_type": "execute_result"
    }
   ],
   "source": [
    "dof = len(df)\n",
    "dof"
   ]
  },
  {
   "cell_type": "code",
   "execution_count": 40,
   "id": "90d9c529-2d45-4838-9d5d-50f0707c7b49",
   "metadata": {},
   "outputs": [
    {
     "name": "stdout",
     "output_type": "stream",
     "text": [
      "<bound method rv_generic.interval of <scipy.stats._continuous_distns.t_gen object at 0x000001C6A7232270>>\n"
     ]
    }
   ],
   "source": [
    "ci = stats.t.interval\n",
    "print(ci)"
   ]
  },
  {
   "cell_type": "code",
   "execution_count": 44,
   "id": "07f49a7e-6054-49a8-ab1e-25b390ea52c7",
   "metadata": {},
   "outputs": [
    {
     "name": "stdout",
     "output_type": "stream",
     "text": [
      "458.4829268292683\n",
      "95% Confidence Interval: (446.11, 470.86)\n"
     ]
    }
   ],
   "source": [
    "\n",
    "\n",
    "import pandas as pd\n",
    "import numpy as np\n",
    "from scipy import stats\n",
    "\n",
    "data = df\n",
    "\n",
    "n = len(df)\n",
    "#a = df['TotalMinutesAsleep'].mean()\n",
    "#print(a)\n",
    "\n",
    "b = df['TotalTimeInBed'].mean()\n",
    "print(b)\n",
    "std_err = stats.sem(df['TotalTimeInBed'])\n",
    "confidence = 0.95\n",
    "\n",
    "# Correct usage of .interval()\n",
    "ci = stats.t.interval(confidence, df=n-1, loc=b, scale=std_err)\n",
    "\n",
    "print(f\"95% Confidence Interval: ({ci[0]:.2f}, {ci[1]:.2f})\")"
   ]
  },
  {
   "cell_type": "code",
   "execution_count": 45,
   "id": "6f86986c-fe24-4236-a120-0d29ed79f38d",
   "metadata": {},
   "outputs": [
    {
     "name": "stdout",
     "output_type": "stream",
     "text": [
      "\n",
      "📊 TotalTimeInBed\n",
      "Mean: 458.48\n",
      "95% Confidence Interval: (446.11, 470.86)\n",
      "\n",
      "📊 TotalMinutesAsleep\n",
      "Mean: 419.17\n",
      "95% Confidence Interval: (407.66, 430.69)\n"
     ]
    }
   ],
   "source": [
    "import pandas as pd\n",
    "import numpy as np\n",
    "from scipy import stats\n",
    "\n",
    "def print_confidence_interval(df, column, confidence=0.95):\n",
    "    if column in df.columns and len(df[column].dropna()) > 1:\n",
    "        clean_data = df[column].dropna()\n",
    "        n = len(clean_data)\n",
    "        mean_val = clean_data.mean()\n",
    "        std_err = stats.sem(clean_data, nan_policy='omit')\n",
    "        ci = stats.t.interval(confidence, df=n-1, loc=mean_val, scale=std_err)\n",
    "\n",
    "        print(f\"\\n📊 {column}\")\n",
    "        print(f\"Mean: {mean_val:.2f}\")\n",
    "        print(f\"{int(confidence * 100)}% Confidence Interval: ({ci[0]:.2f}, {ci[1]:.2f})\")\n",
    "    else:\n",
    "        print(f\"\\n⚠️ Not enough data or column '{column}' not found.\")\n",
    "\n",
    "# Call the function for both columns\n",
    "print_confidence_interval(df, 'TotalTimeInBed')\n",
    "print_confidence_interval(df, 'TotalMinutesAsleep')\n"
   ]
  },
  {
   "cell_type": "code",
   "execution_count": 46,
   "id": "a16431b3-95e4-46f5-ba4d-cf65636955cd",
   "metadata": {},
   "outputs": [
    {
     "name": "stdout",
     "output_type": "stream",
     "text": [
      "T-statistic: -0.14\n",
      "P-value: 0.8878\n"
     ]
    }
   ],
   "source": [
    "#Hypothesis testing :\n",
    "\n",
    "#lets check if average sleep time ≠ 420 minutes (7 hours).\n",
    "#  Define Hypotheses\n",
    "# Null Hypothesis (H₀): µ = 420\n",
    "\n",
    "# Alternative Hypothesis (H₁): µ ≠ 420\n",
    "\n",
    "\n",
    "from scipy import stats\n",
    "\n",
    "# Sample data\n",
    "sleep_minutes = df['TotalMinutesAsleep'].dropna()\n",
    "\n",
    "# Null hypothesis: population mean is 420\n",
    "hypothesized_mean = 420\n",
    "\n",
    "# Perform one-sample t-test\n",
    "t_stat, p_value = stats.ttest_1samp(sleep_minutes, popmean=hypothesized_mean)\n",
    "\n",
    "print(f\"T-statistic: {t_stat:.2f}\")\n",
    "print(f\"P-value: {p_value:.4f}\")\n"
   ]
  },
  {
   "cell_type": "code",
   "execution_count": null,
   "id": "91bf9881-f761-4484-9ea3-615bf16c072c",
   "metadata": {},
   "outputs": [],
   "source": [
    "#  Summary of Findings:\n",
    "# Null hypothesis (H₀): Mean sleep time = 420 minutes\n",
    "\n",
    "# Alternative hypothesis (H₁): Mean sleep time ≠ 420 minutes\n",
    "\n",
    "# Test result: Since the p-value (0.8878) is greater than 0.05, we fail to reject H₀. There's no evidence that the true average sleep time is different from 7 hours."
   ]
  },
  {
   "cell_type": "code",
   "execution_count": null,
   "id": "a44e6d16-8a9f-4c24-8f30-2900c6edd75a",
   "metadata": {},
   "outputs": [],
   "source": [
    "import os\n",
    "os.getcwd()"
   ]
  }
 ],
 "metadata": {
  "kernelspec": {
   "display_name": "Python 3 (ipykernel)",
   "language": "python",
   "name": "python3"
  },
  "language_info": {
   "codemirror_mode": {
    "name": "ipython",
    "version": 3
   },
   "file_extension": ".py",
   "mimetype": "text/x-python",
   "name": "python",
   "nbconvert_exporter": "python",
   "pygments_lexer": "ipython3",
   "version": "3.13.2"
  }
 },
 "nbformat": 4,
 "nbformat_minor": 5
}
